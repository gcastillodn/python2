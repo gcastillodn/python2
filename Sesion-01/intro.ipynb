{
 "cells": [
  {
   "cell_type": "markdown",
   "id": "b7fd0f80-4414-4a60-81dd-9bc2d74746dc",
   "metadata": {},
   "source": [
    "# Intruccion a Jupyter Lab"
   ]
  },
  {
   "cell_type": "markdown",
   "id": "d373faf5-6a1c-4741-8072-1f7839a5035c",
   "metadata": {},
   "source": [
    "vamos a ver una linea"
   ]
  },
  {
   "cell_type": "code",
   "execution_count": null,
   "id": "c5c5e489-0cf6-4a65-9481-4f464dd0eb4e",
   "metadata": {},
   "outputs": [],
   "source": []
  }
 ],
 "metadata": {
  "kernelspec": {
   "display_name": "Python 3 (ipykernel)",
   "language": "python",
   "name": "python3"
  },
  "language_info": {
   "codemirror_mode": {
    "name": "ipython",
    "version": 3
   },
   "file_extension": ".py",
   "mimetype": "text/x-python",
   "name": "python",
   "nbconvert_exporter": "python",
   "pygments_lexer": "ipython3",
   "version": "3.9.5"
  }
 },
 "nbformat": 4,
 "nbformat_minor": 5
}
