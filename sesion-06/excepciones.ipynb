{
 "cells": [
  {
   "cell_type": "markdown",
   "metadata": {},
   "source": [
    "## Ejemplo 3: Excepciones y try except\n",
    "\n",
    "### 1. Objetivos:\n",
    "    - Aprender a usar try except para evitar que las excepciones detengan nuestros programas\n",
    " \n",
    "---\n",
    "    \n",
    "### 2. Desarrollo:"
   ]
  },
  {
   "cell_type": "markdown",
   "metadata": {},
   "source": [
    "Durante el proceso de un programa pueden suceder diferentes tipos de errores, que llamamos `Excepciones`. Una `Excepción` puede suceder en alguno de estos casos, por ejemplo:"
   ]
  },
  {
   "cell_type": "code",
   "execution_count": 2,
   "metadata": {},
   "outputs": [
    {
     "name": "stdout",
     "output_type": "stream",
     "text": [
      "Indice fuera de rango\n"
     ]
    }
   ],
   "source": [
    "lista_1 = [1, 2, 3, 4, 5]\n",
    "try:\n",
    "    lista_1[5]\n",
    "except IndexError:\n",
    "    print(\"Indice fuera de rango\")"
   ]
  },
  {
   "cell_type": "code",
   "execution_count": 4,
   "metadata": {},
   "outputs": [
    {
     "name": "stdout",
     "output_type": "stream",
     "text": [
      "La llave no existe\n"
     ]
    }
   ],
   "source": [
    "dict_1 = {\n",
    "    'a': 1,\n",
    "    'b': 2,\n",
    "    'c': 3,\n",
    "    'd': 4\n",
    "}\n",
    "try:\n",
    "    dict_1[\"m\"]\n",
    "except KeyError:\n",
    "    print(\"La llave no existe\")"
   ]
  },
  {
   "cell_type": "code",
   "execution_count": 6,
   "metadata": {},
   "outputs": [
    {
     "name": "stdout",
     "output_type": "stream",
     "text": [
      "definicion incorrecta de conversion\n"
     ]
    }
   ],
   "source": [
    "try:\n",
    "    int(\"ninguno\")\n",
    "except ValueError:\n",
    "    print(\"definicion incorrecta de conversion\")"
   ]
  },
  {
   "cell_type": "code",
   "execution_count": 8,
   "metadata": {},
   "outputs": [
    {
     "name": "stdout",
     "output_type": "stream",
     "text": [
      "definicion incorrecta de conversion\n"
     ]
    }
   ],
   "source": [
    "try:\n",
    "    float(\"cero\")\n",
    "except ValueError:\n",
    "    print(\"definicion incorrecta de conversion\")"
   ]
  },
  {
   "cell_type": "markdown",
   "metadata": {},
   "source": [
    "Cuando automatizamos programas, tenemos que evitar que Excepciones ocurran, pues detendrían nuestro programa y arruinarían nuestra automatización. Podemos usar estructuras `try-except` que tiene la siguiente forma:\n",
    "\n",
    "    try:\n",
    "        -bloque a validar si ocasiona o no una excepción-\n",
    "    except -nombre de excepción a controlar-:\n",
    "        -bloque de código a ejecutar si la excepción sucede-\n",
    "        \n",
    "Entonces en las siguientes celdamos vamos a evitar que Python detenga la ejecución aplicando estructuras `try-except`:\n"
   ]
  },
  {
   "cell_type": "code",
   "execution_count": 10,
   "metadata": {},
   "outputs": [
    {
     "name": "stdout",
     "output_type": "stream",
     "text": [
      "nomre de lista no valido\n"
     ]
    }
   ],
   "source": [
    "lista_1 = [1, 2, 3, 4, 5]\n",
    "try:\n",
    "    print(lista_2[5])\n",
    "except NameError:\n",
    "    print(\"nomre de lista no valido\")"
   ]
  },
  {
   "cell_type": "code",
   "execution_count": 12,
   "metadata": {},
   "outputs": [
    {
     "name": "stdout",
     "output_type": "stream",
     "text": [
      "Llave no valida\n"
     ]
    }
   ],
   "source": [
    "dict_2 = {\n",
    "    'a': 1,\n",
    "    'b': 2,\n",
    "    'c': 3,\n",
    "    'd': 4\n",
    "}\n",
    "\n",
    "try:\n",
    "    print(dict_2[\"e\"])\n",
    "except KeyError:\n",
    "     print(\"Llave no valida\")"
   ]
  },
  {
   "cell_type": "markdown",
   "metadata": {},
   "source": [
    "Cuando se validan excepciones con número a veces se puede regresar o imprimir un valor nulo numérico usando `None` o `np.nan` (éste último del módulo Numpy), en el siguiente caso imprimamos el valor `np.nan` en caso de que ocurra la excepción:"
   ]
  },
  {
   "cell_type": "code",
   "execution_count": 14,
   "metadata": {},
   "outputs": [
    {
     "name": "stdout",
     "output_type": "stream",
     "text": [
      "dato incorrecto\n"
     ]
    }
   ],
   "source": [
    "import numpy as np\n",
    "\n",
    "try:\n",
    "    print(int(\"5..0\"))\n",
    "except ValueError:\n",
    "     print(\"dato incorrecto\")"
   ]
  },
  {
   "cell_type": "markdown",
   "metadata": {},
   "source": [
    "Ahora el mismo caso, pero para una serie de entradas, evitemos que el ciclo for se detenga imprimiendo `np.nan` cuando no sea posible convertir la cadena a entero:"
   ]
  },
  {
   "cell_type": "code",
   "execution_count": 16,
   "metadata": {},
   "outputs": [
    {
     "name": "stdout",
     "output_type": "stream",
     "text": [
      "1\n",
      "2\n",
      "valor invalido\n",
      "4\n",
      "valor invalido\n",
      "valor invalido\n",
      "7\n",
      "8\n",
      "valor invalido\n",
      "10\n"
     ]
    }
   ],
   "source": [
    "valores = [\"1\", \"2\", \"3.\", \"4\", \"5.5\", \"\", \"7\", \"8\", \".9\", \"10\"]\n",
    "for x in valores:\n",
    "    try:\n",
    "        print(int(x))\n",
    "    except ValueError:\n",
    "        print(\"valor invalido\")"
   ]
  },
  {
   "cell_type": "markdown",
   "metadata": {},
   "source": [
    "---\n",
    "---"
   ]
  },
  {
   "cell_type": "markdown",
   "metadata": {},
   "source": [
    "## Reto 3: Evitando errores con try except\n",
    "\n",
    "### 1. Objetivos:\n",
    "    - Usar una estructura try except para evitar que una función lance un error\n",
    " \n",
    "---\n",
    "    \n",
    "### 2. Desarrollo:"
   ]
  },
  {
   "cell_type": "markdown",
   "metadata": {},
   "source": [
    "### a) Evitando errores al hacer conversión de tipos de dato\n",
    "\n",
    "La conversión de tipos de dato (data casting) es una de las labores más importantes de un procesador de datos. A veces tenemos datos que deberían de tener un tipo de dato pero que tienen otro. Vamos a imaginar que tenemos un sistema donde recibimos input de un usuario. Este input son números que están representados como strings, como por ejemplo:\n",
    "\n",
    "- \"1.5\"\n",
    "- \"4\"\n",
    "- \"100.23\"\n",
    "- \"134.99\"\n",
    "\n",
    "Nosotros queremos guardar esos datos como `float`, no como `string` y por lo tanto vamos a crear una función que convierta una `lista` de `strings` en una `lista` de `float`. El problema es que a veces, el usuario envía inputs que no son números representados como `strings`, sino otro tipo de caracteres, como:\n",
    "\n",
    "- \"a\"\n",
    "- \"fgwe\"\n",
    "- \"4r5t\"\n",
    "- \"#!\"\n",
    "\n",
    "Esos caracteres no los podemos convertir en `float` y por lo tanto vamos a sustituirlos por un `NaN` de `numpy` (`np.nan`). Tu reto es el siguiente:\n",
    "\n",
    "1. Completa la función debajo que recibe una `lista` de `strings` y regresa una `lista` de `floats`.\n",
    "2. Usa un `cilos for` para iterar por la `lista` de `strings` y convertir uno por uno los valores a `float` (puedes leer cómo hacer eso [aquí](http://lineadecodigo.com/python/iterar-una-lista-en-python/) y [aquí](https://es.stackoverflow.com/questions/49194/c%C3%B3mo-convertir-un-tipo-string-a-float-o-int))\n",
    "3. Los resultados de la conversión guárdalos en la lista `lista_de_floats` que es lo que regresa la función.\n",
    "4. Agrega una estructura `try except` para evitar errores cuando la conversión no sea posible y agregar un `np.nan` a `lista_de_floats` en caso de que la conversión haya fallado."
   ]
  },
  {
   "cell_type": "code",
   "execution_count": 19,
   "metadata": {},
   "outputs": [],
   "source": [
    "def str_a_float(lista_de_strings):\n",
    "    \n",
    "    lista_de_floats = []\n",
    "\n",
    "    # 1. recorrer la lista de string (for)\n",
    "    for n in lista_de_strings:\n",
    "    # 2. para cada valor convertirlo a float\n",
    "        try:\n",
    "            valor_float=float(n)\n",
    "    # 3. agregar el valor convertido a la nueva lista\n",
    "            lista_de_floats.append(valor_float)\n",
    "    # 4. si hay falla entonces agregar el valor np.nan\n",
    "        except:\n",
    "            lista_de_floats.append(np.nan)\n",
    "        \n",
    "    return lista_de_floats"
   ]
  },
  {
   "cell_type": "markdown",
   "metadata": {},
   "source": [
    "Ejecuta la siguiente celda para obtener la lista de números sin que aparezca un error o excepción."
   ]
  },
  {
   "cell_type": "code",
   "execution_count": 20,
   "metadata": {},
   "outputs": [
    {
     "data": {
      "text/plain": [
       "[1.0,\n",
       " 2.0,\n",
       " 3.0,\n",
       " 4.0,\n",
       " 5.0,\n",
       " 1.2,\n",
       " 33.0,\n",
       " 55.5,\n",
       " nan,\n",
       " 78.0,\n",
       " nan,\n",
       " nan,\n",
       " nan,\n",
       " nan,\n",
       " nan,\n",
       " nan,\n",
       " 4.4,\n",
       " nan,\n",
       " 6.6,\n",
       " nan,\n",
       " 9.9]"
      ]
     },
     "execution_count": 20,
     "metadata": {},
     "output_type": "execute_result"
    }
   ],
   "source": [
    "strings = ['1', '2', '3', '4', '5',\n",
    "    '1.2', '33', '55.5', 'f', '78',\n",
    "    'f', 'g', 't', 'e', 'r', 'f',\n",
    "    '4.4', 't', '6.6', 'r', '9.9']\n",
    "\n",
    "floats = str_a_float(strings)\n",
    "floats"
   ]
  },
  {
   "cell_type": "code",
   "execution_count": null,
   "metadata": {},
   "outputs": [],
   "source": []
  }
 ],
 "metadata": {
  "kernelspec": {
   "display_name": "Python 3 (ipykernel)",
   "language": "python",
   "name": "python3"
  },
  "language_info": {
   "codemirror_mode": {
    "name": "ipython",
    "version": 3
   },
   "file_extension": ".py",
   "mimetype": "text/x-python",
   "name": "python",
   "nbconvert_exporter": "python",
   "pygments_lexer": "ipython3",
   "version": "3.9.5"
  }
 },
 "nbformat": 4,
 "nbformat_minor": 4
}
